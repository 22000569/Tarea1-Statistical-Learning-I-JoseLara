{
 "cells": [
  {
   "cell_type": "code",
   "execution_count": 103,
   "metadata": {},
   "outputs": [],
   "source": [
    "import pandas as pd\n",
    "import numpy as np \n",
    "import matplotlib.pyplot as plt"
   ]
  },
  {
   "cell_type": "code",
   "execution_count": 104,
   "metadata": {},
   "outputs": [
    {
     "data": {
      "text/plain": [
       "(1460, 81)"
      ]
     },
     "execution_count": 104,
     "metadata": {},
     "output_type": "execute_result"
    }
   ],
   "source": [
    "dataHP = pd.read_csv('train_HP.csv')\n",
    "dataHP.shape"
   ]
  },
  {
   "cell_type": "code",
   "execution_count": 105,
   "metadata": {},
   "outputs": [
    {
     "data": {
      "text/html": [
       "<div>\n",
       "<style scoped>\n",
       "    .dataframe tbody tr th:only-of-type {\n",
       "        vertical-align: middle;\n",
       "    }\n",
       "\n",
       "    .dataframe tbody tr th {\n",
       "        vertical-align: top;\n",
       "    }\n",
       "\n",
       "    .dataframe thead th {\n",
       "        text-align: right;\n",
       "    }\n",
       "</style>\n",
       "<table border=\"1\" class=\"dataframe\">\n",
       "  <thead>\n",
       "    <tr style=\"text-align: right;\">\n",
       "      <th></th>\n",
       "      <th>Id</th>\n",
       "      <th>MSSubClass</th>\n",
       "      <th>MSZoning</th>\n",
       "      <th>LotFrontage</th>\n",
       "      <th>LotArea</th>\n",
       "      <th>Street</th>\n",
       "      <th>Alley</th>\n",
       "      <th>LotShape</th>\n",
       "      <th>LandContour</th>\n",
       "      <th>Utilities</th>\n",
       "      <th>...</th>\n",
       "      <th>PoolArea</th>\n",
       "      <th>PoolQC</th>\n",
       "      <th>Fence</th>\n",
       "      <th>MiscFeature</th>\n",
       "      <th>MiscVal</th>\n",
       "      <th>MoSold</th>\n",
       "      <th>YrSold</th>\n",
       "      <th>SaleType</th>\n",
       "      <th>SaleCondition</th>\n",
       "      <th>SalePrice</th>\n",
       "    </tr>\n",
       "  </thead>\n",
       "  <tbody>\n",
       "    <tr>\n",
       "      <th>0</th>\n",
       "      <td>1</td>\n",
       "      <td>60</td>\n",
       "      <td>RL</td>\n",
       "      <td>65.0</td>\n",
       "      <td>8450</td>\n",
       "      <td>Pave</td>\n",
       "      <td>NaN</td>\n",
       "      <td>Reg</td>\n",
       "      <td>Lvl</td>\n",
       "      <td>AllPub</td>\n",
       "      <td>...</td>\n",
       "      <td>0</td>\n",
       "      <td>NaN</td>\n",
       "      <td>NaN</td>\n",
       "      <td>NaN</td>\n",
       "      <td>0</td>\n",
       "      <td>2</td>\n",
       "      <td>2008</td>\n",
       "      <td>WD</td>\n",
       "      <td>Normal</td>\n",
       "      <td>208500</td>\n",
       "    </tr>\n",
       "    <tr>\n",
       "      <th>1</th>\n",
       "      <td>2</td>\n",
       "      <td>20</td>\n",
       "      <td>RL</td>\n",
       "      <td>80.0</td>\n",
       "      <td>9600</td>\n",
       "      <td>Pave</td>\n",
       "      <td>NaN</td>\n",
       "      <td>Reg</td>\n",
       "      <td>Lvl</td>\n",
       "      <td>AllPub</td>\n",
       "      <td>...</td>\n",
       "      <td>0</td>\n",
       "      <td>NaN</td>\n",
       "      <td>NaN</td>\n",
       "      <td>NaN</td>\n",
       "      <td>0</td>\n",
       "      <td>5</td>\n",
       "      <td>2007</td>\n",
       "      <td>WD</td>\n",
       "      <td>Normal</td>\n",
       "      <td>181500</td>\n",
       "    </tr>\n",
       "    <tr>\n",
       "      <th>2</th>\n",
       "      <td>3</td>\n",
       "      <td>60</td>\n",
       "      <td>RL</td>\n",
       "      <td>68.0</td>\n",
       "      <td>11250</td>\n",
       "      <td>Pave</td>\n",
       "      <td>NaN</td>\n",
       "      <td>IR1</td>\n",
       "      <td>Lvl</td>\n",
       "      <td>AllPub</td>\n",
       "      <td>...</td>\n",
       "      <td>0</td>\n",
       "      <td>NaN</td>\n",
       "      <td>NaN</td>\n",
       "      <td>NaN</td>\n",
       "      <td>0</td>\n",
       "      <td>9</td>\n",
       "      <td>2008</td>\n",
       "      <td>WD</td>\n",
       "      <td>Normal</td>\n",
       "      <td>223500</td>\n",
       "    </tr>\n",
       "    <tr>\n",
       "      <th>3</th>\n",
       "      <td>4</td>\n",
       "      <td>70</td>\n",
       "      <td>RL</td>\n",
       "      <td>60.0</td>\n",
       "      <td>9550</td>\n",
       "      <td>Pave</td>\n",
       "      <td>NaN</td>\n",
       "      <td>IR1</td>\n",
       "      <td>Lvl</td>\n",
       "      <td>AllPub</td>\n",
       "      <td>...</td>\n",
       "      <td>0</td>\n",
       "      <td>NaN</td>\n",
       "      <td>NaN</td>\n",
       "      <td>NaN</td>\n",
       "      <td>0</td>\n",
       "      <td>2</td>\n",
       "      <td>2006</td>\n",
       "      <td>WD</td>\n",
       "      <td>Abnorml</td>\n",
       "      <td>140000</td>\n",
       "    </tr>\n",
       "    <tr>\n",
       "      <th>4</th>\n",
       "      <td>5</td>\n",
       "      <td>60</td>\n",
       "      <td>RL</td>\n",
       "      <td>84.0</td>\n",
       "      <td>14260</td>\n",
       "      <td>Pave</td>\n",
       "      <td>NaN</td>\n",
       "      <td>IR1</td>\n",
       "      <td>Lvl</td>\n",
       "      <td>AllPub</td>\n",
       "      <td>...</td>\n",
       "      <td>0</td>\n",
       "      <td>NaN</td>\n",
       "      <td>NaN</td>\n",
       "      <td>NaN</td>\n",
       "      <td>0</td>\n",
       "      <td>12</td>\n",
       "      <td>2008</td>\n",
       "      <td>WD</td>\n",
       "      <td>Normal</td>\n",
       "      <td>250000</td>\n",
       "    </tr>\n",
       "  </tbody>\n",
       "</table>\n",
       "<p>5 rows × 81 columns</p>\n",
       "</div>"
      ],
      "text/plain": [
       "   Id  MSSubClass MSZoning  LotFrontage  LotArea Street Alley LotShape  \\\n",
       "0   1          60       RL         65.0     8450   Pave   NaN      Reg   \n",
       "1   2          20       RL         80.0     9600   Pave   NaN      Reg   \n",
       "2   3          60       RL         68.0    11250   Pave   NaN      IR1   \n",
       "3   4          70       RL         60.0     9550   Pave   NaN      IR1   \n",
       "4   5          60       RL         84.0    14260   Pave   NaN      IR1   \n",
       "\n",
       "  LandContour Utilities  ... PoolArea PoolQC Fence MiscFeature MiscVal MoSold  \\\n",
       "0         Lvl    AllPub  ...        0    NaN   NaN         NaN       0      2   \n",
       "1         Lvl    AllPub  ...        0    NaN   NaN         NaN       0      5   \n",
       "2         Lvl    AllPub  ...        0    NaN   NaN         NaN       0      9   \n",
       "3         Lvl    AllPub  ...        0    NaN   NaN         NaN       0      2   \n",
       "4         Lvl    AllPub  ...        0    NaN   NaN         NaN       0     12   \n",
       "\n",
       "  YrSold  SaleType  SaleCondition  SalePrice  \n",
       "0   2008        WD         Normal     208500  \n",
       "1   2007        WD         Normal     181500  \n",
       "2   2008        WD         Normal     223500  \n",
       "3   2006        WD        Abnorml     140000  \n",
       "4   2008        WD         Normal     250000  \n",
       "\n",
       "[5 rows x 81 columns]"
      ]
     },
     "execution_count": 105,
     "metadata": {},
     "output_type": "execute_result"
    }
   ],
   "source": [
    "dataHP.head()"
   ]
  },
  {
   "attachments": {},
   "cell_type": "markdown",
   "metadata": {},
   "source": [
    "# Tarea #1"
   ]
  },
  {
   "cell_type": "code",
   "execution_count": 106,
   "metadata": {},
   "outputs": [
    {
     "data": {
      "text/plain": [
       "['LotFrontage',\n",
       " 'Alley',\n",
       " 'MasVnrType',\n",
       " 'MasVnrArea',\n",
       " 'BsmtQual',\n",
       " 'BsmtCond',\n",
       " 'BsmtExposure',\n",
       " 'BsmtFinType1',\n",
       " 'BsmtFinType2',\n",
       " 'Electrical',\n",
       " 'FireplaceQu',\n",
       " 'GarageType',\n",
       " 'GarageYrBlt',\n",
       " 'GarageFinish',\n",
       " 'GarageQual',\n",
       " 'GarageCond',\n",
       " 'PoolQC',\n",
       " 'Fence',\n",
       " 'MiscFeature']"
      ]
     },
     "execution_count": 106,
     "metadata": {},
     "output_type": "execute_result"
    }
   ],
   "source": [
    "'''Listado de columnas con NA datos'''\n",
    "\n",
    "cols_con_na = [col for col in dataHP.columns if (dataHP[col].isnull().mean() > 0)]\n",
    "cols_con_na"
   ]
  },
  {
   "cell_type": "code",
   "execution_count": 107,
   "metadata": {},
   "outputs": [
    {
     "data": {
      "text/plain": [
       "19"
      ]
     },
     "execution_count": 107,
     "metadata": {},
     "output_type": "execute_result"
    }
   ],
   "source": [
    "'''Total de columnas que poseen datos nulos'''\n",
    "\n",
    "len(cols_con_na)"
   ]
  },
  {
   "cell_type": "code",
   "execution_count": 108,
   "metadata": {},
   "outputs": [
    {
     "data": {
      "text/plain": [
       "LotFrontage     float64\n",
       "Alley            object\n",
       "MasVnrType       object\n",
       "MasVnrArea      float64\n",
       "BsmtQual         object\n",
       "BsmtCond         object\n",
       "BsmtExposure     object\n",
       "BsmtFinType1     object\n",
       "BsmtFinType2     object\n",
       "Electrical       object\n",
       "FireplaceQu      object\n",
       "GarageType       object\n",
       "GarageYrBlt     float64\n",
       "GarageFinish     object\n",
       "GarageQual       object\n",
       "GarageCond       object\n",
       "PoolQC           object\n",
       "Fence            object\n",
       "MiscFeature      object\n",
       "dtype: object"
      ]
     },
     "execution_count": 108,
     "metadata": {},
     "output_type": "execute_result"
    }
   ],
   "source": [
    "'''Tipo de datos con NA'''\n",
    "\n",
    "dataHP[cols_con_na].dtypes"
   ]
  },
  {
   "cell_type": "code",
   "execution_count": 109,
   "metadata": {},
   "outputs": [
    {
     "data": {
      "text/html": [
       "<div>\n",
       "<style scoped>\n",
       "    .dataframe tbody tr th:only-of-type {\n",
       "        vertical-align: middle;\n",
       "    }\n",
       "\n",
       "    .dataframe tbody tr th {\n",
       "        vertical-align: top;\n",
       "    }\n",
       "\n",
       "    .dataframe thead th {\n",
       "        text-align: right;\n",
       "    }\n",
       "</style>\n",
       "<table border=\"1\" class=\"dataframe\">\n",
       "  <thead>\n",
       "    <tr style=\"text-align: right;\">\n",
       "      <th></th>\n",
       "      <th>LotFrontage</th>\n",
       "      <th>Alley</th>\n",
       "      <th>MasVnrType</th>\n",
       "      <th>MasVnrArea</th>\n",
       "      <th>BsmtQual</th>\n",
       "      <th>BsmtCond</th>\n",
       "      <th>BsmtExposure</th>\n",
       "      <th>BsmtFinType1</th>\n",
       "      <th>BsmtFinType2</th>\n",
       "      <th>Electrical</th>\n",
       "      <th>FireplaceQu</th>\n",
       "      <th>GarageType</th>\n",
       "      <th>GarageYrBlt</th>\n",
       "      <th>GarageFinish</th>\n",
       "      <th>GarageQual</th>\n",
       "      <th>GarageCond</th>\n",
       "      <th>PoolQC</th>\n",
       "      <th>Fence</th>\n",
       "      <th>MiscFeature</th>\n",
       "    </tr>\n",
       "  </thead>\n",
       "  <tbody>\n",
       "    <tr>\n",
       "      <th>0</th>\n",
       "      <td>65.0</td>\n",
       "      <td>NaN</td>\n",
       "      <td>BrkFace</td>\n",
       "      <td>196.0</td>\n",
       "      <td>Gd</td>\n",
       "      <td>TA</td>\n",
       "      <td>No</td>\n",
       "      <td>GLQ</td>\n",
       "      <td>Unf</td>\n",
       "      <td>SBrkr</td>\n",
       "      <td>NaN</td>\n",
       "      <td>Attchd</td>\n",
       "      <td>2003.0</td>\n",
       "      <td>RFn</td>\n",
       "      <td>TA</td>\n",
       "      <td>TA</td>\n",
       "      <td>NaN</td>\n",
       "      <td>NaN</td>\n",
       "      <td>NaN</td>\n",
       "    </tr>\n",
       "    <tr>\n",
       "      <th>1</th>\n",
       "      <td>80.0</td>\n",
       "      <td>NaN</td>\n",
       "      <td>None</td>\n",
       "      <td>0.0</td>\n",
       "      <td>Gd</td>\n",
       "      <td>TA</td>\n",
       "      <td>Gd</td>\n",
       "      <td>ALQ</td>\n",
       "      <td>Unf</td>\n",
       "      <td>SBrkr</td>\n",
       "      <td>TA</td>\n",
       "      <td>Attchd</td>\n",
       "      <td>1976.0</td>\n",
       "      <td>RFn</td>\n",
       "      <td>TA</td>\n",
       "      <td>TA</td>\n",
       "      <td>NaN</td>\n",
       "      <td>NaN</td>\n",
       "      <td>NaN</td>\n",
       "    </tr>\n",
       "    <tr>\n",
       "      <th>2</th>\n",
       "      <td>68.0</td>\n",
       "      <td>NaN</td>\n",
       "      <td>BrkFace</td>\n",
       "      <td>162.0</td>\n",
       "      <td>Gd</td>\n",
       "      <td>TA</td>\n",
       "      <td>Mn</td>\n",
       "      <td>GLQ</td>\n",
       "      <td>Unf</td>\n",
       "      <td>SBrkr</td>\n",
       "      <td>TA</td>\n",
       "      <td>Attchd</td>\n",
       "      <td>2001.0</td>\n",
       "      <td>RFn</td>\n",
       "      <td>TA</td>\n",
       "      <td>TA</td>\n",
       "      <td>NaN</td>\n",
       "      <td>NaN</td>\n",
       "      <td>NaN</td>\n",
       "    </tr>\n",
       "    <tr>\n",
       "      <th>3</th>\n",
       "      <td>60.0</td>\n",
       "      <td>NaN</td>\n",
       "      <td>None</td>\n",
       "      <td>0.0</td>\n",
       "      <td>TA</td>\n",
       "      <td>Gd</td>\n",
       "      <td>No</td>\n",
       "      <td>ALQ</td>\n",
       "      <td>Unf</td>\n",
       "      <td>SBrkr</td>\n",
       "      <td>Gd</td>\n",
       "      <td>Detchd</td>\n",
       "      <td>1998.0</td>\n",
       "      <td>Unf</td>\n",
       "      <td>TA</td>\n",
       "      <td>TA</td>\n",
       "      <td>NaN</td>\n",
       "      <td>NaN</td>\n",
       "      <td>NaN</td>\n",
       "    </tr>\n",
       "    <tr>\n",
       "      <th>4</th>\n",
       "      <td>84.0</td>\n",
       "      <td>NaN</td>\n",
       "      <td>BrkFace</td>\n",
       "      <td>350.0</td>\n",
       "      <td>Gd</td>\n",
       "      <td>TA</td>\n",
       "      <td>Av</td>\n",
       "      <td>GLQ</td>\n",
       "      <td>Unf</td>\n",
       "      <td>SBrkr</td>\n",
       "      <td>TA</td>\n",
       "      <td>Attchd</td>\n",
       "      <td>2000.0</td>\n",
       "      <td>RFn</td>\n",
       "      <td>TA</td>\n",
       "      <td>TA</td>\n",
       "      <td>NaN</td>\n",
       "      <td>NaN</td>\n",
       "      <td>NaN</td>\n",
       "    </tr>\n",
       "  </tbody>\n",
       "</table>\n",
       "</div>"
      ],
      "text/plain": [
       "   LotFrontage Alley MasVnrType  MasVnrArea BsmtQual BsmtCond BsmtExposure  \\\n",
       "0         65.0   NaN    BrkFace       196.0       Gd       TA           No   \n",
       "1         80.0   NaN       None         0.0       Gd       TA           Gd   \n",
       "2         68.0   NaN    BrkFace       162.0       Gd       TA           Mn   \n",
       "3         60.0   NaN       None         0.0       TA       Gd           No   \n",
       "4         84.0   NaN    BrkFace       350.0       Gd       TA           Av   \n",
       "\n",
       "  BsmtFinType1 BsmtFinType2 Electrical FireplaceQu GarageType  GarageYrBlt  \\\n",
       "0          GLQ          Unf      SBrkr         NaN     Attchd       2003.0   \n",
       "1          ALQ          Unf      SBrkr          TA     Attchd       1976.0   \n",
       "2          GLQ          Unf      SBrkr          TA     Attchd       2001.0   \n",
       "3          ALQ          Unf      SBrkr          Gd     Detchd       1998.0   \n",
       "4          GLQ          Unf      SBrkr          TA     Attchd       2000.0   \n",
       "\n",
       "  GarageFinish GarageQual GarageCond PoolQC Fence MiscFeature  \n",
       "0          RFn         TA         TA    NaN   NaN         NaN  \n",
       "1          RFn         TA         TA    NaN   NaN         NaN  \n",
       "2          RFn         TA         TA    NaN   NaN         NaN  \n",
       "3          Unf         TA         TA    NaN   NaN         NaN  \n",
       "4          RFn         TA         TA    NaN   NaN         NaN  "
      ]
     },
     "execution_count": 109,
     "metadata": {},
     "output_type": "execute_result"
    }
   ],
   "source": [
    "'''\n",
    "Tomando unicamente las columnas\n",
    "que poseen nulos, hacemos un dataset\n",
    "'''\n",
    "\n",
    "dataset_tarea1 = dataHP[cols_con_na]\n",
    "dataset_tarea1.head()"
   ]
  },
  {
   "cell_type": "code",
   "execution_count": 110,
   "metadata": {},
   "outputs": [],
   "source": [
    "'''\n",
    "Creamos una formula donde indentificamos los datos type'object'\n",
    "e imputamos los datos con menos occurencias en los datos nulos\n",
    "'''\n",
    "\n",
    "def imputar_valores_nulos_object(dataset_tarea1):\n",
    "  \n",
    "    columnas_object = dataset_tarea1.select_dtypes(include=['object']).columns\n",
    "\n",
    "    for columna in columnas_object:\n",
    "        valor_menos_comun = dataset_tarea1[columna].value_counts().idxmin()\n",
    "        dataset_tarea1[columna] = dataset_tarea1[columna].fillna(valor_menos_comun)\n",
    "\n",
    "    return dataset_tarea1"
   ]
  },
  {
   "cell_type": "code",
   "execution_count": 111,
   "metadata": {},
   "outputs": [
    {
     "name": "stdout",
     "output_type": "stream",
     "text": [
      "      LotFrontage Alley MasVnrType  MasVnrArea BsmtQual BsmtCond BsmtExposure  \\\n",
      "0            65.0  Pave    BrkFace       196.0       Gd       TA           No   \n",
      "1            80.0  Pave       None         0.0       Gd       TA           Gd   \n",
      "2            68.0  Pave    BrkFace       162.0       Gd       TA           Mn   \n",
      "3            60.0  Pave       None         0.0       TA       Gd           No   \n",
      "4            84.0  Pave    BrkFace       350.0       Gd       TA           Av   \n",
      "...           ...   ...        ...         ...      ...      ...          ...   \n",
      "1455         62.0  Pave       None         0.0       Gd       TA           No   \n",
      "1456         85.0  Pave      Stone       119.0       Gd       TA           No   \n",
      "1457         66.0  Pave       None         0.0       TA       Gd           No   \n",
      "1458         68.0  Pave       None         0.0       TA       TA           Mn   \n",
      "1459         75.0  Pave       None         0.0       TA       TA           No   \n",
      "\n",
      "     BsmtFinType1 BsmtFinType2 Electrical FireplaceQu GarageType  GarageYrBlt  \\\n",
      "0             GLQ          Unf      SBrkr          Po     Attchd       2003.0   \n",
      "1             ALQ          Unf      SBrkr          TA     Attchd       1976.0   \n",
      "2             GLQ          Unf      SBrkr          TA     Attchd       2001.0   \n",
      "3             ALQ          Unf      SBrkr          Gd     Detchd       1998.0   \n",
      "4             GLQ          Unf      SBrkr          TA     Attchd       2000.0   \n",
      "...           ...          ...        ...         ...        ...          ...   \n",
      "1455          Unf          Unf      SBrkr          TA     Attchd       1999.0   \n",
      "1456          ALQ          Rec      SBrkr          TA     Attchd       1978.0   \n",
      "1457          GLQ          Unf      SBrkr          Gd     Attchd       1941.0   \n",
      "1458          GLQ          Rec      FuseA          Po     Attchd       1950.0   \n",
      "1459          BLQ          LwQ      SBrkr          Po     Attchd       1965.0   \n",
      "\n",
      "     GarageFinish GarageQual GarageCond PoolQC  Fence MiscFeature  \n",
      "0             RFn         TA         TA     Ex   MnWw        TenC  \n",
      "1             RFn         TA         TA     Ex   MnWw        TenC  \n",
      "2             RFn         TA         TA     Ex   MnWw        TenC  \n",
      "3             Unf         TA         TA     Ex   MnWw        TenC  \n",
      "4             RFn         TA         TA     Ex   MnWw        TenC  \n",
      "...           ...        ...        ...    ...    ...         ...  \n",
      "1455          RFn         TA         TA     Ex   MnWw        TenC  \n",
      "1456          Unf         TA         TA     Ex  MnPrv        TenC  \n",
      "1457          RFn         TA         TA     Ex  GdPrv        Shed  \n",
      "1458          Unf         TA         TA     Ex   MnWw        TenC  \n",
      "1459          Fin         TA         TA     Ex   MnWw        TenC  \n",
      "\n",
      "[1460 rows x 19 columns]\n"
     ]
    },
    {
     "name": "stderr",
     "output_type": "stream",
     "text": [
      "C:\\Users\\Jose L\\AppData\\Local\\Temp\\ipykernel_21920\\937687890.py:12: SettingWithCopyWarning: \n",
      "A value is trying to be set on a copy of a slice from a DataFrame.\n",
      "Try using .loc[row_indexer,col_indexer] = value instead\n",
      "\n",
      "See the caveats in the documentation: https://pandas.pydata.org/pandas-docs/stable/user_guide/indexing.html#returning-a-view-versus-a-copy\n",
      "  dataset_tarea1[columna] = dataset_tarea1[columna].fillna(valor_menos_comun)\n",
      "C:\\Users\\Jose L\\AppData\\Local\\Temp\\ipykernel_21920\\937687890.py:12: SettingWithCopyWarning: \n",
      "A value is trying to be set on a copy of a slice from a DataFrame.\n",
      "Try using .loc[row_indexer,col_indexer] = value instead\n",
      "\n",
      "See the caveats in the documentation: https://pandas.pydata.org/pandas-docs/stable/user_guide/indexing.html#returning-a-view-versus-a-copy\n",
      "  dataset_tarea1[columna] = dataset_tarea1[columna].fillna(valor_menos_comun)\n",
      "C:\\Users\\Jose L\\AppData\\Local\\Temp\\ipykernel_21920\\937687890.py:12: SettingWithCopyWarning: \n",
      "A value is trying to be set on a copy of a slice from a DataFrame.\n",
      "Try using .loc[row_indexer,col_indexer] = value instead\n",
      "\n",
      "See the caveats in the documentation: https://pandas.pydata.org/pandas-docs/stable/user_guide/indexing.html#returning-a-view-versus-a-copy\n",
      "  dataset_tarea1[columna] = dataset_tarea1[columna].fillna(valor_menos_comun)\n",
      "C:\\Users\\Jose L\\AppData\\Local\\Temp\\ipykernel_21920\\937687890.py:12: SettingWithCopyWarning: \n",
      "A value is trying to be set on a copy of a slice from a DataFrame.\n",
      "Try using .loc[row_indexer,col_indexer] = value instead\n",
      "\n",
      "See the caveats in the documentation: https://pandas.pydata.org/pandas-docs/stable/user_guide/indexing.html#returning-a-view-versus-a-copy\n",
      "  dataset_tarea1[columna] = dataset_tarea1[columna].fillna(valor_menos_comun)\n",
      "C:\\Users\\Jose L\\AppData\\Local\\Temp\\ipykernel_21920\\937687890.py:12: SettingWithCopyWarning: \n",
      "A value is trying to be set on a copy of a slice from a DataFrame.\n",
      "Try using .loc[row_indexer,col_indexer] = value instead\n",
      "\n",
      "See the caveats in the documentation: https://pandas.pydata.org/pandas-docs/stable/user_guide/indexing.html#returning-a-view-versus-a-copy\n",
      "  dataset_tarea1[columna] = dataset_tarea1[columna].fillna(valor_menos_comun)\n",
      "C:\\Users\\Jose L\\AppData\\Local\\Temp\\ipykernel_21920\\937687890.py:12: SettingWithCopyWarning: \n",
      "A value is trying to be set on a copy of a slice from a DataFrame.\n",
      "Try using .loc[row_indexer,col_indexer] = value instead\n",
      "\n",
      "See the caveats in the documentation: https://pandas.pydata.org/pandas-docs/stable/user_guide/indexing.html#returning-a-view-versus-a-copy\n",
      "  dataset_tarea1[columna] = dataset_tarea1[columna].fillna(valor_menos_comun)\n",
      "C:\\Users\\Jose L\\AppData\\Local\\Temp\\ipykernel_21920\\937687890.py:12: SettingWithCopyWarning: \n",
      "A value is trying to be set on a copy of a slice from a DataFrame.\n",
      "Try using .loc[row_indexer,col_indexer] = value instead\n",
      "\n",
      "See the caveats in the documentation: https://pandas.pydata.org/pandas-docs/stable/user_guide/indexing.html#returning-a-view-versus-a-copy\n",
      "  dataset_tarea1[columna] = dataset_tarea1[columna].fillna(valor_menos_comun)\n",
      "C:\\Users\\Jose L\\AppData\\Local\\Temp\\ipykernel_21920\\937687890.py:12: SettingWithCopyWarning: \n",
      "A value is trying to be set on a copy of a slice from a DataFrame.\n",
      "Try using .loc[row_indexer,col_indexer] = value instead\n",
      "\n",
      "See the caveats in the documentation: https://pandas.pydata.org/pandas-docs/stable/user_guide/indexing.html#returning-a-view-versus-a-copy\n",
      "  dataset_tarea1[columna] = dataset_tarea1[columna].fillna(valor_menos_comun)\n",
      "C:\\Users\\Jose L\\AppData\\Local\\Temp\\ipykernel_21920\\937687890.py:12: SettingWithCopyWarning: \n",
      "A value is trying to be set on a copy of a slice from a DataFrame.\n",
      "Try using .loc[row_indexer,col_indexer] = value instead\n",
      "\n",
      "See the caveats in the documentation: https://pandas.pydata.org/pandas-docs/stable/user_guide/indexing.html#returning-a-view-versus-a-copy\n",
      "  dataset_tarea1[columna] = dataset_tarea1[columna].fillna(valor_menos_comun)\n",
      "C:\\Users\\Jose L\\AppData\\Local\\Temp\\ipykernel_21920\\937687890.py:12: SettingWithCopyWarning: \n",
      "A value is trying to be set on a copy of a slice from a DataFrame.\n",
      "Try using .loc[row_indexer,col_indexer] = value instead\n",
      "\n",
      "See the caveats in the documentation: https://pandas.pydata.org/pandas-docs/stable/user_guide/indexing.html#returning-a-view-versus-a-copy\n",
      "  dataset_tarea1[columna] = dataset_tarea1[columna].fillna(valor_menos_comun)\n",
      "C:\\Users\\Jose L\\AppData\\Local\\Temp\\ipykernel_21920\\937687890.py:12: SettingWithCopyWarning: \n",
      "A value is trying to be set on a copy of a slice from a DataFrame.\n",
      "Try using .loc[row_indexer,col_indexer] = value instead\n",
      "\n",
      "See the caveats in the documentation: https://pandas.pydata.org/pandas-docs/stable/user_guide/indexing.html#returning-a-view-versus-a-copy\n",
      "  dataset_tarea1[columna] = dataset_tarea1[columna].fillna(valor_menos_comun)\n",
      "C:\\Users\\Jose L\\AppData\\Local\\Temp\\ipykernel_21920\\937687890.py:12: SettingWithCopyWarning: \n",
      "A value is trying to be set on a copy of a slice from a DataFrame.\n",
      "Try using .loc[row_indexer,col_indexer] = value instead\n",
      "\n",
      "See the caveats in the documentation: https://pandas.pydata.org/pandas-docs/stable/user_guide/indexing.html#returning-a-view-versus-a-copy\n",
      "  dataset_tarea1[columna] = dataset_tarea1[columna].fillna(valor_menos_comun)\n",
      "C:\\Users\\Jose L\\AppData\\Local\\Temp\\ipykernel_21920\\937687890.py:12: SettingWithCopyWarning: \n",
      "A value is trying to be set on a copy of a slice from a DataFrame.\n",
      "Try using .loc[row_indexer,col_indexer] = value instead\n",
      "\n",
      "See the caveats in the documentation: https://pandas.pydata.org/pandas-docs/stable/user_guide/indexing.html#returning-a-view-versus-a-copy\n",
      "  dataset_tarea1[columna] = dataset_tarea1[columna].fillna(valor_menos_comun)\n",
      "C:\\Users\\Jose L\\AppData\\Local\\Temp\\ipykernel_21920\\937687890.py:12: SettingWithCopyWarning: \n",
      "A value is trying to be set on a copy of a slice from a DataFrame.\n",
      "Try using .loc[row_indexer,col_indexer] = value instead\n",
      "\n",
      "See the caveats in the documentation: https://pandas.pydata.org/pandas-docs/stable/user_guide/indexing.html#returning-a-view-versus-a-copy\n",
      "  dataset_tarea1[columna] = dataset_tarea1[columna].fillna(valor_menos_comun)\n",
      "C:\\Users\\Jose L\\AppData\\Local\\Temp\\ipykernel_21920\\937687890.py:12: SettingWithCopyWarning: \n",
      "A value is trying to be set on a copy of a slice from a DataFrame.\n",
      "Try using .loc[row_indexer,col_indexer] = value instead\n",
      "\n",
      "See the caveats in the documentation: https://pandas.pydata.org/pandas-docs/stable/user_guide/indexing.html#returning-a-view-versus-a-copy\n",
      "  dataset_tarea1[columna] = dataset_tarea1[columna].fillna(valor_menos_comun)\n",
      "C:\\Users\\Jose L\\AppData\\Local\\Temp\\ipykernel_21920\\937687890.py:12: SettingWithCopyWarning: \n",
      "A value is trying to be set on a copy of a slice from a DataFrame.\n",
      "Try using .loc[row_indexer,col_indexer] = value instead\n",
      "\n",
      "See the caveats in the documentation: https://pandas.pydata.org/pandas-docs/stable/user_guide/indexing.html#returning-a-view-versus-a-copy\n",
      "  dataset_tarea1[columna] = dataset_tarea1[columna].fillna(valor_menos_comun)\n"
     ]
    }
   ],
   "source": [
    "dataHP_sin_nulos= imputar_valores_nulos_object(dataset_tarea1)\n",
    "print(dataHP_sin_nulos)"
   ]
  },
  {
   "attachments": {},
   "cell_type": "markdown",
   "metadata": {},
   "source": [
    "### Comprobar si la funcional def imputar_valores_nulos_object"
   ]
  },
  {
   "cell_type": "code",
   "execution_count": 112,
   "metadata": {},
   "outputs": [
    {
     "data": {
      "text/plain": [
       "8"
      ]
     },
     "execution_count": 112,
     "metadata": {},
     "output_type": "execute_result"
    }
   ],
   "source": [
    "'''Cantidad de nulos en la columna MasVnrType'''\n",
    "dataHP['MasVnrType'].isnull().sum()"
   ]
  },
  {
   "cell_type": "code",
   "execution_count": 113,
   "metadata": {},
   "outputs": [
    {
     "data": {
      "text/plain": [
       "None       864\n",
       "BrkFace    445\n",
       "Stone      128\n",
       "BrkCmn      15\n",
       "Name: MasVnrType, dtype: int64"
      ]
     },
     "execution_count": 113,
     "metadata": {},
     "output_type": "execute_result"
    }
   ],
   "source": [
    "'''Comprambamos como eran los datos antes de la imputacion de datos nulos'''\n",
    "dataHP['MasVnrType'].value_counts().sort_values(ascending=False)"
   ]
  },
  {
   "cell_type": "code",
   "execution_count": 114,
   "metadata": {},
   "outputs": [
    {
     "data": {
      "text/plain": [
       "None       864\n",
       "BrkFace    445\n",
       "Stone      128\n",
       "BrkCmn      23\n",
       "Name: MasVnrType, dtype: int64"
      ]
     },
     "execution_count": 114,
     "metadata": {},
     "output_type": "execute_result"
    }
   ],
   "source": [
    "'''Comprambamos como son los datos tras imputar los datos nulos utilizando el valor con menos datos'''\n",
    "dataHP_sin_nulos['MasVnrType'].value_counts().sort_values(ascending=False)\n"
   ]
  },
  {
   "attachments": {},
   "cell_type": "markdown",
   "metadata": {},
   "source": [
    "### Conclusion: Existian 8 datos nulos de la columna MasVnrType. Estos fueron sustituidos por BrkCmn ya que este era el que poseia menos datos"
   ]
  },
  {
   "attachments": {},
   "cell_type": "markdown",
   "metadata": {},
   "source": [
    "### Imputacion de los valores Numericos "
   ]
  },
  {
   "cell_type": "code",
   "execution_count": 115,
   "metadata": {},
   "outputs": [],
   "source": [
    "'''\n",
    "Creamos una formula donde indentificamos los datos type'float64'\n",
    "e imputamos los datos con la media y mediana\n",
    "'''\n",
    "\n",
    "def imputar_valores_nulos_float(dataset_tarea1):\n",
    "    # Obtener las columnas de tipo float64\n",
    "    columnas_float = dataset_tarea1.select_dtypes(include=['float64']).columns\n",
    "\n",
    "    # Calcular la media y mediana de las columnas float64\n",
    "    medias = dataset_tarea1[columnas_float].mean()\n",
    "    medianas = dataset_tarea1[columnas_float].median()\n",
    "\n",
    "    # Imputar los valores nulos utilizando la media\n",
    "    dataset_tarea1[columnas_float] = dataset_tarea1[columnas_float].fillna(medias)\n",
    "\n",
    "    return dataset_tarea1"
   ]
  },
  {
   "cell_type": "code",
   "execution_count": 116,
   "metadata": {},
   "outputs": [
    {
     "name": "stdout",
     "output_type": "stream",
     "text": [
      "      LotFrontage Alley MasVnrType  MasVnrArea BsmtQual BsmtCond BsmtExposure  \\\n",
      "0            65.0  Pave    BrkFace       196.0       Gd       TA           No   \n",
      "1            80.0  Pave       None         0.0       Gd       TA           Gd   \n",
      "2            68.0  Pave    BrkFace       162.0       Gd       TA           Mn   \n",
      "3            60.0  Pave       None         0.0       TA       Gd           No   \n",
      "4            84.0  Pave    BrkFace       350.0       Gd       TA           Av   \n",
      "...           ...   ...        ...         ...      ...      ...          ...   \n",
      "1455         62.0  Pave       None         0.0       Gd       TA           No   \n",
      "1456         85.0  Pave      Stone       119.0       Gd       TA           No   \n",
      "1457         66.0  Pave       None         0.0       TA       Gd           No   \n",
      "1458         68.0  Pave       None         0.0       TA       TA           Mn   \n",
      "1459         75.0  Pave       None         0.0       TA       TA           No   \n",
      "\n",
      "     BsmtFinType1 BsmtFinType2 Electrical FireplaceQu GarageType  GarageYrBlt  \\\n",
      "0             GLQ          Unf      SBrkr          Po     Attchd       2003.0   \n",
      "1             ALQ          Unf      SBrkr          TA     Attchd       1976.0   \n",
      "2             GLQ          Unf      SBrkr          TA     Attchd       2001.0   \n",
      "3             ALQ          Unf      SBrkr          Gd     Detchd       1998.0   \n",
      "4             GLQ          Unf      SBrkr          TA     Attchd       2000.0   \n",
      "...           ...          ...        ...         ...        ...          ...   \n",
      "1455          Unf          Unf      SBrkr          TA     Attchd       1999.0   \n",
      "1456          ALQ          Rec      SBrkr          TA     Attchd       1978.0   \n",
      "1457          GLQ          Unf      SBrkr          Gd     Attchd       1941.0   \n",
      "1458          GLQ          Rec      FuseA          Po     Attchd       1950.0   \n",
      "1459          BLQ          LwQ      SBrkr          Po     Attchd       1965.0   \n",
      "\n",
      "     GarageFinish GarageQual GarageCond PoolQC  Fence MiscFeature  \n",
      "0             RFn         TA         TA     Ex   MnWw        TenC  \n",
      "1             RFn         TA         TA     Ex   MnWw        TenC  \n",
      "2             RFn         TA         TA     Ex   MnWw        TenC  \n",
      "3             Unf         TA         TA     Ex   MnWw        TenC  \n",
      "4             RFn         TA         TA     Ex   MnWw        TenC  \n",
      "...           ...        ...        ...    ...    ...         ...  \n",
      "1455          RFn         TA         TA     Ex   MnWw        TenC  \n",
      "1456          Unf         TA         TA     Ex  MnPrv        TenC  \n",
      "1457          RFn         TA         TA     Ex  GdPrv        Shed  \n",
      "1458          Unf         TA         TA     Ex   MnWw        TenC  \n",
      "1459          Fin         TA         TA     Ex   MnWw        TenC  \n",
      "\n",
      "[1460 rows x 19 columns]\n"
     ]
    },
    {
     "name": "stderr",
     "output_type": "stream",
     "text": [
      "C:\\Users\\Jose L\\AppData\\Local\\Temp\\ipykernel_21920\\1268731895.py:15: SettingWithCopyWarning: \n",
      "A value is trying to be set on a copy of a slice from a DataFrame.\n",
      "Try using .loc[row_indexer,col_indexer] = value instead\n",
      "\n",
      "See the caveats in the documentation: https://pandas.pydata.org/pandas-docs/stable/user_guide/indexing.html#returning-a-view-versus-a-copy\n",
      "  dataset_tarea1[columnas_float] = dataset_tarea1[columnas_float].fillna(medias)\n"
     ]
    }
   ],
   "source": [
    "dataHP_sin_nulos2 = imputar_valores_nulos_float(dataHP_sin_nulos)\n",
    "print(dataHP_sin_nulos2)"
   ]
  },
  {
   "attachments": {},
   "cell_type": "markdown",
   "metadata": {},
   "source": [
    "### Comprobar si funciona def imputar_valores_nulos_float"
   ]
  },
  {
   "cell_type": "code",
   "execution_count": 117,
   "metadata": {},
   "outputs": [
    {
     "data": {
      "text/plain": [
       "81"
      ]
     },
     "execution_count": 117,
     "metadata": {},
     "output_type": "execute_result"
    }
   ],
   "source": [
    "'''Cantidad de nulos en la columna GarageYrBlt'''\n",
    "dataHP['GarageYrBlt'].isnull().sum()"
   ]
  },
  {
   "cell_type": "code",
   "execution_count": 118,
   "metadata": {},
   "outputs": [
    {
     "data": {
      "text/plain": [
       "0"
      ]
     },
     "execution_count": 118,
     "metadata": {},
     "output_type": "execute_result"
    }
   ],
   "source": [
    "'''Cantidad de nulos en la columna GarageYrBlt'''\n",
    "dataHP_sin_nulos2['GarageYrBlt'].isnull().sum()"
   ]
  },
  {
   "attachments": {},
   "cell_type": "markdown",
   "metadata": {},
   "source": [
    "### Conclusion: Existian 81 datos nulos de la columna GarageYrBlt. Estos fueron sustituidos por la media y mediana y ahorra hay 0 nulos"
   ]
  },
  {
   "attachments": {},
   "cell_type": "markdown",
   "metadata": {},
   "source": [
    "# Converir las columnas de categoria('object') a tipo numerico"
   ]
  },
  {
   "cell_type": "code",
   "execution_count": 119,
   "metadata": {},
   "outputs": [],
   "source": [
    "'''\n",
    "De nuestro ultimo dataframe dataHP_sin_nulos2 (el cual ya no poseee nulos) tomamos las columnas type object.\n",
    "Creamos un nuevo dataframe (tabla) el cual contendra el dato original de la tabla y su equivalencia a numerico. \n",
    "El dato numerico es igual al value_counts() del dato original\n",
    "'''\n",
    "def convertir_columnas_object_a_numerico(dataHP_sin_nulos2):\n",
    "  \n",
    "    columnas_object = dataHP_sin_nulos2.select_dtypes(include=['object']).columns\n",
    "\n",
    "    tabla = pd.DataFrame(columns=['Dato_Object', 'Dato_Numerico'])\n",
    "\n",
    "    for columna in columnas_object:\n",
    "        frecuencia_mapper = dataHP_sin_nulos2[columna].value_counts().reset_index()\n",
    "        frecuencia_mapper.columns = ['Dato_Object', 'Dato_Numerico']\n",
    "        tabla = pd.concat([tabla, frecuencia_mapper])\n",
    "\n",
    "    return tabla"
   ]
  },
  {
   "cell_type": "code",
   "execution_count": 120,
   "metadata": {},
   "outputs": [
    {
     "name": "stdout",
     "output_type": "stream",
     "text": [
      "   Dato_Object Dato_Numerico\n",
      "0         Pave          1410\n",
      "1         Grvl            50\n",
      "0         None           864\n",
      "1      BrkFace           445\n",
      "2        Stone           128\n",
      "..         ...           ...\n",
      "3         GdWo            54\n",
      "0         TenC          1407\n",
      "1         Shed            49\n",
      "2         Gar2             2\n",
      "3         Othr             2\n",
      "\n",
      "[70 rows x 2 columns]\n"
     ]
    }
   ],
   "source": [
    "tabla_conversion = convertir_columnas_object_a_numerico(dataHP_sin_nulos2)\n",
    "print(tabla_conversion)"
   ]
  }
 ],
 "metadata": {
  "kernelspec": {
   "display_name": "analytics_env",
   "language": "python",
   "name": "python3"
  },
  "language_info": {
   "codemirror_mode": {
    "name": "ipython",
    "version": 3
   },
   "file_extension": ".py",
   "mimetype": "text/x-python",
   "name": "python",
   "nbconvert_exporter": "python",
   "pygments_lexer": "ipython3",
   "version": "3.9.13"
  },
  "orig_nbformat": 4
 },
 "nbformat": 4,
 "nbformat_minor": 2
}
